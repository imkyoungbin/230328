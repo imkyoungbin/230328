{
  "cells": [
    {
      "cell_type": "markdown",
      "metadata": {
        "id": "view-in-github",
        "colab_type": "text"
      },
      "source": [
        "<a href=\"https://colab.research.google.com/github/imkyoungbin/230328/blob/main/1%EC%A3%BC%EC%B0%A8/%ED%8C%8C%EC%9D%B4%EC%8D%AC%EA%B8%B0%EC%B4%88_%EB%B3%80%EC%88%98.ipynb\" target=\"_parent\"><img src=\"https://colab.research.google.com/assets/colab-badge.svg\" alt=\"Open In Colab\"/></a>"
      ]
    },
    {
      "cell_type": "markdown",
      "metadata": {
        "id": "7IF9xbpaYD2H"
      },
      "source": [
        "# 2.1.1 변수란 무엇일까요?\n",
        "\n",
        "변수는 바구니이다.\n",
        "\n",
        "`변수이름 = 데이터`"
      ]
    },
    {
      "cell_type": "code",
      "execution_count": null,
      "metadata": {
        "id": "KvOcii3pYD2L",
        "outputId": "f52dac41-92fe-456f-d072-df4bb32b6eb3",
        "colab": {
          "base_uri": "https://localhost:8080/"
        }
      },
      "outputs": [
        {
          "output_type": "execute_result",
          "data": {
            "text/plain": [
              "5"
            ]
          },
          "metadata": {},
          "execution_count": 1
        }
      ],
      "source": [
        "a = 5    # a라는 바구니에 값 5를 넣는다. [Enter]\n",
        "a         # a 안에 있는 값을 확인한다.     [▶Run 또는 Shift + Enter]"
      ]
    },
    {
      "cell_type": "code",
      "execution_count": null,
      "metadata": {
        "id": "kdq0hhIOYD2N",
        "outputId": "a3f52584-a832-457b-e6ee-eca24d23b05f",
        "colab": {
          "base_uri": "https://localhost:8080/"
        }
      },
      "outputs": [
        {
          "output_type": "execute_result",
          "data": {
            "text/plain": [
              "3"
            ]
          },
          "metadata": {},
          "execution_count": 2
        }
      ],
      "source": [
        "b = 3    # b라는 바구니에 값 3을 넣는다. [Enter]\n",
        "b         # b 안에 있는 값을 확인한다.     [▶Run 또는 Shift + Enter]"
      ]
    },
    {
      "cell_type": "code",
      "execution_count": null,
      "metadata": {
        "id": "SmPuVR1mYD2O",
        "outputId": "217e1db6-07cf-4fbb-88ee-7918d69924cb",
        "colab": {
          "base_uri": "https://localhost:8080/"
        }
      },
      "outputs": [
        {
          "output_type": "execute_result",
          "data": {
            "text/plain": [
              "8"
            ]
          },
          "metadata": {},
          "execution_count": 3
        }
      ],
      "source": [
        "a + b    # a 바구니에 있는 값과 b 바구니에 있는 값을 더한다.   [▶Run 또는 Shift + Enter]"
      ]
    },
    {
      "cell_type": "code",
      "execution_count": null,
      "metadata": {
        "id": "z3hdiy4XYD2P",
        "outputId": "86610459-9d6f-42bc-d78a-1c63dc4ee722",
        "colab": {
          "base_uri": "https://localhost:8080/",
          "height": 36
        }
      },
      "outputs": [
        {
          "output_type": "execute_result",
          "data": {
            "text/plain": [
              "'가나다'"
            ],
            "application/vnd.google.colaboratory.intrinsic+json": {
              "type": "string"
            }
          },
          "metadata": {},
          "execution_count": 4
        }
      ],
      "source": [
        "c = '가나다'\n",
        "c"
      ]
    },
    {
      "cell_type": "code",
      "source": [
        "d = \"파이썬 강의\""
      ],
      "metadata": {
        "id": "6FiFGw6al5LY"
      },
      "execution_count": null,
      "outputs": []
    },
    {
      "cell_type": "code",
      "source": [
        "d"
      ],
      "metadata": {
        "colab": {
          "base_uri": "https://localhost:8080/",
          "height": 36
        },
        "id": "j0qJv6oxl-UH",
        "outputId": "4942c204-2863-4f91-860d-60b87f1079f7"
      },
      "execution_count": null,
      "outputs": [
        {
          "output_type": "execute_result",
          "data": {
            "text/plain": [
              "'파이썬 강의'"
            ],
            "application/vnd.google.colaboratory.intrinsic+json": {
              "type": "string"
            }
          },
          "metadata": {},
          "execution_count": 6
        }
      ]
    },
    {
      "cell_type": "code",
      "execution_count": null,
      "metadata": {
        "id": "gR__nUEQYD2P",
        "outputId": "63637b18-07f3-4668-ca75-260e3b4d7342",
        "colab": {
          "base_uri": "https://localhost:8080/"
        }
      },
      "outputs": [
        {
          "output_type": "execute_result",
          "data": {
            "text/plain": [
              "107.9"
            ]
          },
          "metadata": {},
          "execution_count": 7
        }
      ],
      "source": [
        "radio_freq = 107.9\n",
        "radio_freq"
      ]
    },
    {
      "cell_type": "markdown",
      "metadata": {
        "id": "SGMVd6rmYD2Q"
      },
      "source": [
        "# 2.1.2 변수 이름을 붙이는 규칙(1) \n",
        " - 꼭 지켜야 하는 규칙"
      ]
    },
    {
      "cell_type": "markdown",
      "source": [
        "**잘못된 변수명**\n",
        "- 숫자로 시작하는 변수\n",
        "- 공백이 포함된 변수\n",
        "- 기호가 포함된 변수(밑줄 제외)\n",
        "- 예약어\n"
      ],
      "metadata": {
        "id": "Q-cWhQr7YmWG"
      }
    },
    {
      "cell_type": "code",
      "execution_count": null,
      "metadata": {
        "id": "e2f9fpmyYD2R",
        "outputId": "93e14304-732b-4eca-c625-27944fcc5b8f",
        "colab": {
          "base_uri": "https://localhost:8080/",
          "height": 138
        }
      },
      "outputs": [
        {
          "output_type": "error",
          "ename": "SyntaxError",
          "evalue": "ignored",
          "traceback": [
            "\u001b[0;36m  File \u001b[0;32m\"<ipython-input-8-f08ab471a553>\"\u001b[0;36m, line \u001b[0;32m2\u001b[0m\n\u001b[0;31m    2var = \"행복\"\u001b[0m\n\u001b[0m     ^\u001b[0m\n\u001b[0;31mSyntaxError\u001b[0m\u001b[0;31m:\u001b[0m invalid syntax\n"
          ]
        }
      ],
      "source": [
        "# 잘못된 변수명: 숫자로 시작하는 변수\n",
        "2var = \"행복\""
      ]
    },
    {
      "cell_type": "code",
      "execution_count": null,
      "metadata": {
        "id": "LT_wUXxFYD2R"
      },
      "outputs": [],
      "source": [
        "# 잘못된 변수명: 공백이 포함된 변수\n",
        "happy_var = \"행복\""
      ]
    },
    {
      "cell_type": "code",
      "source": [
        "happy_var"
      ],
      "metadata": {
        "colab": {
          "base_uri": "https://localhost:8080/",
          "height": 36
        },
        "id": "vzkziTS7nDi2",
        "outputId": "27e2a57c-9058-46f9-b5e6-83ed4107f68e"
      },
      "execution_count": null,
      "outputs": [
        {
          "output_type": "execute_result",
          "data": {
            "text/plain": [
              "'행복'"
            ],
            "application/vnd.google.colaboratory.intrinsic+json": {
              "type": "string"
            }
          },
          "metadata": {},
          "execution_count": 11
        }
      ]
    },
    {
      "cell_type": "markdown",
      "metadata": {
        "id": "l7K43tNkYD2S"
      },
      "source": [
        "-----\n",
        "<div class=\"alert alert-warning\">\n",
        "[Tip]  이렇게 변수 이름을 만들면 좋아요\n",
        "</div>"
      ]
    },
    {
      "cell_type": "code",
      "execution_count": null,
      "metadata": {
        "id": "NFqE4ORtYD2T"
      },
      "outputs": [],
      "source": [
        "# Camel Case\n",
        "happyVariable = \"행복\"\n",
        "# Snake Case\n",
        "happpy_variable = \"행복\""
      ]
    },
    {
      "cell_type": "code",
      "execution_count": null,
      "metadata": {
        "id": "gRQHsV2XYD2T"
      },
      "outputs": [],
      "source": [
        "# Hungarian notation\n",
        "bHappyVariable = True"
      ]
    },
    {
      "cell_type": "markdown",
      "metadata": {
        "id": "LMaEIR59YD2U"
      },
      "source": [
        "-------"
      ]
    },
    {
      "cell_type": "code",
      "execution_count": null,
      "metadata": {
        "id": "k9qO0d75YD2U",
        "outputId": "5f8b870b-aa5c-4625-fa82-697f58a2ba89",
        "colab": {
          "base_uri": "https://localhost:8080/",
          "height": 138
        }
      },
      "outputs": [
        {
          "output_type": "error",
          "ename": "SyntaxError",
          "evalue": "ignored",
          "traceback": [
            "\u001b[0;36m  File \u001b[0;32m\"<ipython-input-12-4f1371600809>\"\u001b[0;36m, line \u001b[0;32m2\u001b[0m\n\u001b[0;31m    happyvar! = \"행복\"\u001b[0m\n\u001b[0m            ^\u001b[0m\n\u001b[0;31mSyntaxError\u001b[0m\u001b[0;31m:\u001b[0m invalid syntax\n"
          ]
        }
      ],
      "source": [
        "# 잘못된 변수명: 특수기호(!)가 포함된 변수\n",
        "happyvar! = \"행복\""
      ]
    },
    {
      "cell_type": "code",
      "execution_count": null,
      "metadata": {
        "id": "BZxcVPSpYD2V",
        "outputId": "929b8043-c770-440e-8e76-d26154a86009",
        "colab": {
          "base_uri": "https://localhost:8080/",
          "height": 138
        }
      },
      "outputs": [
        {
          "output_type": "error",
          "ename": "SyntaxError",
          "evalue": "ignored",
          "traceback": [
            "\u001b[0;36m  File \u001b[0;32m\"<ipython-input-13-4ffb7deb5118>\"\u001b[0;36m, line \u001b[0;32m2\u001b[0m\n\u001b[0;31m    def = \"행복\"\u001b[0m\n\u001b[0m        ^\u001b[0m\n\u001b[0;31mSyntaxError\u001b[0m\u001b[0;31m:\u001b[0m invalid syntax\n"
          ]
        }
      ],
      "source": [
        "# 잘못된 변수명: 파이썬 예약어로 만든 변수\n",
        "def = \"행복\""
      ]
    },
    {
      "cell_type": "markdown",
      "metadata": {
        "id": "k3nNBYvMYD2V"
      },
      "source": [
        "# 2.1.3 변수 이름을 붙이는 규칙(2)\n",
        " - 에러는 발생하지 않지만 알아 두어야 하는 규칙"
      ]
    },
    {
      "cell_type": "markdown",
      "source": [
        "**파이썬 변수명 특징**\n",
        "- 대소문자 구분\n",
        "- 한 번에 여러 변수 선언 가능\n",
        "- 하나의 값을 여러 변수에 담을 수 있음\n"
      ],
      "metadata": {
        "id": "HGqhAC1TY1n6"
      }
    },
    {
      "cell_type": "markdown",
      "metadata": {
        "id": "rsmRlq0XYD2V"
      },
      "source": [
        "## ① 대소문자를 구분한다."
      ]
    },
    {
      "cell_type": "code",
      "execution_count": null,
      "metadata": {
        "id": "Xsp1v5BWYD2V",
        "outputId": "5f394993-91cc-4bd1-81d1-d3b8b86069de"
      },
      "outputs": [
        {
          "data": {
            "text/plain": [
              "5"
            ]
          },
          "execution_count": 10,
          "metadata": {},
          "output_type": "execute_result"
        }
      ],
      "source": [
        "abc = 5\n",
        "abc"
      ]
    },
    {
      "cell_type": "code",
      "execution_count": null,
      "metadata": {
        "id": "gpww3SibYD2W",
        "outputId": "b9fd75f4-325f-4206-9a45-d74f198aac2d"
      },
      "outputs": [
        {
          "data": {
            "text/plain": [
              "'Apple'"
            ]
          },
          "execution_count": 11,
          "metadata": {},
          "output_type": "execute_result"
        }
      ],
      "source": [
        "ABC = \"Apple\"\n",
        "ABC"
      ]
    },
    {
      "cell_type": "markdown",
      "metadata": {
        "id": "W3JKF-3iYD2W"
      },
      "source": [
        "## ② 한 번에 여러 변수를 선언할 수 있다."
      ]
    },
    {
      "cell_type": "code",
      "execution_count": null,
      "metadata": {
        "id": "_RODr0-DYD2W"
      },
      "outputs": [],
      "source": [
        "x, y, z = \"Apple\", \"Banana\", \"Carrot\""
      ]
    },
    {
      "cell_type": "code",
      "execution_count": null,
      "metadata": {
        "id": "j97eTc_SYD2W",
        "outputId": "67fca131-d180-463c-c930-2d46db5415f7"
      },
      "outputs": [
        {
          "data": {
            "text/plain": [
              "'Apple'"
            ]
          },
          "execution_count": 10,
          "metadata": {},
          "output_type": "execute_result"
        }
      ],
      "source": [
        "x"
      ]
    },
    {
      "cell_type": "code",
      "execution_count": null,
      "metadata": {
        "id": "9SflzDAjYD2X",
        "outputId": "cf423284-ef55-4754-93b4-8a037656b430"
      },
      "outputs": [
        {
          "data": {
            "text/plain": [
              "'Banana'"
            ]
          },
          "execution_count": 11,
          "metadata": {},
          "output_type": "execute_result"
        }
      ],
      "source": [
        "y"
      ]
    },
    {
      "cell_type": "code",
      "execution_count": null,
      "metadata": {
        "id": "YWGMixN6YD2X",
        "outputId": "3fa9cef2-4ebd-4a5f-eb3e-59a699322160"
      },
      "outputs": [
        {
          "data": {
            "text/plain": [
              "'Carrot'"
            ]
          },
          "execution_count": 15,
          "metadata": {},
          "output_type": "execute_result"
        }
      ],
      "source": [
        "z"
      ]
    },
    {
      "cell_type": "code",
      "execution_count": null,
      "metadata": {
        "id": "1osy-pqwYD2X",
        "outputId": "b1e63741-7d2c-4dd0-a1ac-31e4a89805b9"
      },
      "outputs": [
        {
          "data": {
            "text/plain": [
              "'Not Use'"
            ]
          },
          "execution_count": 12,
          "metadata": {},
          "output_type": "execute_result"
        }
      ],
      "source": [
        "_, var = \"Not Use\", \"Use\"\n",
        "_"
      ]
    },
    {
      "cell_type": "code",
      "execution_count": null,
      "metadata": {
        "id": "oQblffLjYD2X",
        "outputId": "7ece33df-70ed-4441-b81e-4bddd1b522a6"
      },
      "outputs": [
        {
          "data": {
            "text/plain": [
              "'Use'"
            ]
          },
          "execution_count": 18,
          "metadata": {},
          "output_type": "execute_result"
        }
      ],
      "source": [
        "var"
      ]
    },
    {
      "cell_type": "markdown",
      "metadata": {
        "id": "sNgdX-K0YD2X"
      },
      "source": [
        "## ③ 하나의 값을 여러 변수에 담을 수 있다."
      ]
    },
    {
      "cell_type": "code",
      "execution_count": null,
      "metadata": {
        "id": "gTaEJNNpYD2Y",
        "outputId": "f64257e4-e170-4dbf-9468-259f2ad2a6fb"
      },
      "outputs": [
        {
          "data": {
            "text/plain": [
              "'Dog'"
            ]
          },
          "execution_count": 13,
          "metadata": {},
          "output_type": "execute_result"
        }
      ],
      "source": [
        "x = y = z = \"Dog\"\n",
        "x"
      ]
    },
    {
      "cell_type": "code",
      "execution_count": null,
      "metadata": {
        "id": "yBWSEv21YD2Y",
        "outputId": "0c4b728f-e038-46fa-8772-4629cd3a50e7"
      },
      "outputs": [
        {
          "data": {
            "text/plain": [
              "'Dog'"
            ]
          },
          "execution_count": 21,
          "metadata": {},
          "output_type": "execute_result"
        }
      ],
      "source": [
        "y"
      ]
    },
    {
      "cell_type": "code",
      "execution_count": null,
      "metadata": {
        "id": "7WeNGVq-YD2Y",
        "outputId": "4e366619-3e8e-4b30-d429-4c111706400e"
      },
      "outputs": [
        {
          "data": {
            "text/plain": [
              "'Dog'"
            ]
          },
          "execution_count": 22,
          "metadata": {},
          "output_type": "execute_result"
        }
      ],
      "source": [
        "z"
      ]
    }
  ],
  "metadata": {
    "kernelspec": {
      "display_name": "Python 3",
      "language": "python",
      "name": "python3"
    },
    "language_info": {
      "codemirror_mode": {
        "name": "ipython",
        "version": 3
      },
      "file_extension": ".py",
      "mimetype": "text/x-python",
      "name": "python",
      "nbconvert_exporter": "python",
      "pygments_lexer": "ipython3",
      "version": "3.8.5"
    },
    "toc": {
      "base_numbering": 1,
      "nav_menu": {},
      "number_sections": false,
      "sideBar": true,
      "skip_h1_title": false,
      "title_cell": "Table of Contents",
      "title_sidebar": "Contents",
      "toc_cell": false,
      "toc_position": {},
      "toc_section_display": true,
      "toc_window_display": false
    },
    "colab": {
      "provenance": [],
      "toc_visible": true,
      "include_colab_link": true
    }
  },
  "nbformat": 4,
  "nbformat_minor": 0
}